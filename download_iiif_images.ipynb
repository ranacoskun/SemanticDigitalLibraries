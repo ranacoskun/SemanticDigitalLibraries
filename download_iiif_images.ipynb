{
  "nbformat": 4,
  "nbformat_minor": 0,
  "metadata": {
    "colab": {
      "provenance": []
    },
    "kernelspec": {
      "name": "python3",
      "display_name": "Python 3"
    },
    "language_info": {
      "name": "python"
    }
  },
  "cells": [
    {
      "cell_type": "code",
      "source": [
        "cd /content/drive/MyDrive"
      ],
      "metadata": {
        "colab": {
          "base_uri": "https://localhost:8080/"
        },
        "id": "4GSHh3sc2q0B",
        "outputId": "b4c729ba-56fc-400f-aa3c-5f505f773979"
      },
      "execution_count": null,
      "outputs": [
        {
          "output_type": "stream",
          "name": "stdout",
          "text": [
            "/content/drive/MyDrive\n"
          ]
        }
      ]
    },
    {
      "cell_type": "code",
      "source": [
        "import requests\n",
        "import os\n",
        "\n",
        "def download_image(url, output_folder, image_name):\n",
        "    response = requests.get(url, stream=True)\n",
        "    if response.status_code == 200:\n",
        "        with open(os.path.join(output_folder, image_name), 'wb') as file:\n",
        "            for chunk in response.iter_content(1024):\n",
        "                file.write(chunk)\n",
        "        print(f\"Downloaded {image_name}\")\n",
        "    else:\n",
        "        print(f\"Failed to download {image_name}\")\n",
        "\n",
        "def download_images_from_manifest(manifest_url, output_folder):\n",
        "    response = requests.get(manifest_url)\n",
        "    if response.status_code == 200:\n",
        "        manifest = response.json()\n",
        "\n",
        "        os.makedirs(output_folder, exist_ok=True)\n",
        "\n",
        "        for canvas in manifest['sequences'][0]['canvases']:\n",
        "            image_info = canvas['images'][0]['resource']['service']['@id']\n",
        "            image_url = f\"{image_info}/full/full/0/default.jpg\"\n",
        "\n",
        "            image_name = f\"{canvas['label']}.jpg\"\n",
        "\n",
        "            download_image(image_url, output_folder, image_name)\n",
        "    else:\n",
        "        print(f\"Failed to retrieve manifest: {response.status_code}\")\n",
        "\n",
        "manifest_url = \"https://cudl.lib.cam.ac.uk/iiif/MS-DAR-00124\"\n",
        "\n",
        "output_folder = \"iiif_images\"\n",
        "\n",
        "download_images_from_manifest(manifest_url, output_folder)"
      ],
      "metadata": {
        "colab": {
          "base_uri": "https://localhost:8080/"
        },
        "id": "mtMFjRe43YwX",
        "outputId": "ef316171-540a-4293-d9e2-dffe8ab55ffa"
      },
      "execution_count": null,
      "outputs": [
        {
          "output_type": "stream",
          "name": "stdout",
          "text": [
            "Downloaded fc.jpg\n",
            "Downloaded ifc.jpg\n",
            "Downloaded labelr.jpg\n",
            "Downloaded labelv.jpg\n",
            "Downloaded 3.jpg\n",
            "Downloaded 4.jpg\n",
            "Downloaded 15.jpg\n",
            "Downloaded 16.jpg\n",
            "Downloaded 17.jpg\n",
            "Downloaded 18.jpg\n",
            "Downloaded 23.jpg\n",
            "Downloaded 24.jpg\n",
            "Downloaded 31.jpg\n",
            "Downloaded 32.jpg\n",
            "Downloaded 37.jpg\n",
            "Downloaded 38.jpg\n",
            "Downloaded 39.jpg\n",
            "Downloaded 40.jpg\n",
            "Downloaded 43.jpg\n",
            "Downloaded 44.jpg\n",
            "Downloaded 45.jpg\n",
            "Downloaded 46.jpg\n",
            "Downloaded 47.jpg\n",
            "Downloaded 48.jpg\n",
            "Downloaded 49.jpg\n",
            "Downloaded 50.jpg\n",
            "Downloaded 51.jpg\n",
            "Downloaded 52.jpg\n",
            "Downloaded 53.jpg\n",
            "Downloaded 54.jpg\n",
            "Downloaded 57.jpg\n",
            "Downloaded 58.jpg\n",
            "Downloaded 59.jpg\n",
            "Downloaded 60.jpg\n",
            "Downloaded 63.jpg\n",
            "Downloaded 64.jpg\n",
            "Downloaded 65.jpg\n",
            "Downloaded 66.jpg\n",
            "Downloaded 67.jpg\n",
            "Downloaded 68.jpg\n",
            "Downloaded 69.jpg\n",
            "Downloaded 70.jpg\n",
            "Downloaded 71.jpg\n",
            "Downloaded 72.jpg\n",
            "Downloaded 75.jpg\n",
            "Downloaded 76.jpg\n",
            "Downloaded 77.jpg\n",
            "Downloaded 78.jpg\n",
            "Downloaded 79.jpg\n",
            "Downloaded 80.jpg\n",
            "Downloaded 83.jpg\n",
            "Downloaded 84.jpg\n",
            "Downloaded 89.jpg\n",
            "Downloaded 90.jpg\n",
            "Downloaded 95.jpg\n",
            "Downloaded 96.jpg\n",
            "Downloaded 97.jpg\n",
            "Downloaded 98.jpg\n",
            "Downloaded 99.jpg\n",
            "Downloaded 100.jpg\n",
            "Downloaded 101.jpg\n",
            "Downloaded 102.jpg\n",
            "Downloaded 105.jpg\n",
            "Downloaded 106.jpg\n",
            "Downloaded 107.jpg\n",
            "Downloaded 108.jpg\n",
            "Downloaded 109.jpg\n",
            "Downloaded 110.jpg\n",
            "Downloaded 111.jpg\n",
            "Downloaded 112.jpg\n",
            "Downloaded 113.jpg\n",
            "Downloaded 114.jpg\n",
            "Downloaded 117.jpg\n",
            "Downloaded 118.jpg\n",
            "Downloaded 127.jpg\n",
            "Downloaded 128.jpg\n",
            "Downloaded 133.jpg\n",
            "Downloaded 134.jpg\n",
            "Downloaded 135.jpg\n",
            "Downloaded 136.jpg\n",
            "Downloaded 137.jpg\n",
            "Downloaded 138.jpg\n",
            "Downloaded 141.jpg\n",
            "Downloaded 142.jpg\n",
            "Downloaded 143.jpg\n",
            "Downloaded 144.jpg\n",
            "Downloaded 145.jpg\n",
            "Downloaded 146.jpg\n",
            "Downloaded 147.jpg\n",
            "Downloaded 148.jpg\n",
            "Downloaded 149.jpg\n",
            "Downloaded 150.jpg\n",
            "Downloaded 151.jpg\n",
            "Downloaded 152.jpg\n",
            "Downloaded 153.jpg\n",
            "Downloaded 154.jpg\n",
            "Downloaded 155.jpg\n",
            "Downloaded 156.jpg\n",
            "Downloaded 157.jpg\n",
            "Downloaded 158.jpg\n",
            "Downloaded 159.jpg\n",
            "Downloaded 160.jpg\n",
            "Downloaded 161.jpg\n",
            "Downloaded 162.jpg\n",
            "Downloaded 163.jpg\n",
            "Downloaded 164.jpg\n",
            "Downloaded 177.jpg\n",
            "Downloaded 178.jpg\n",
            "Downloaded 183.jpg\n",
            "Downloaded 184.jpg\n",
            "Downloaded ibc.jpg\n",
            "Downloaded bc.jpg\n"
          ]
        }
      ]
    }
  ]
}